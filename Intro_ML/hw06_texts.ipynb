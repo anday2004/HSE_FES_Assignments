{
 "cells": [
  {
   "cell_type": "markdown",
   "metadata": {
    "id": "Ffq6A2-ifzAA"
   },
   "source": [
    "# Интеллектуальный анализ данных – весна 2024\n",
    "# Домашнее задание 6: классификация текстов"
   ]
  },
  {
   "cell_type": "markdown",
   "metadata": {
    "id": "EPcxtekTA1Sm"
   },
   "source": [
    "Правила:\n",
    "\n",
    "\n",
    "\n",
    "*   Домашнее задание оценивается в 10 баллов.\n",
    "*   Можно использовать без доказательства любые результаты, встречавшиеся на лекциях или семинарах по курсу, если получение этих результатов не является вопросом задания.\n",
    "*  Можно использовать любые свободные источники с *обязательным* указанием ссылки на них.\n",
    "*  Плагиат не допускается. При обнаружении случаев списывания, 0 за работу выставляется всем участникам нарушения, даже если можно установить, кто у кого списал.\n",
    "*  Старайтесь сделать код как можно более оптимальным. В частности, будет штрафоваться использование циклов в тех случаях, когда операцию можно совершить при помощи инструментов библиотек, о которых рассказывалось в курсе."
   ]
  },
  {
   "cell_type": "markdown",
   "metadata": {
    "id": "itRtFtrOf0_b"
   },
   "source": [
    "В этом домашнем задании вам предстоит построить классификатор текстов.\n",
    "\n",
    "Будем предсказывать эмоциональную окраску твиттов о коронавирусе.\n",
    "\n"
   ]
  },
  {
   "cell_type": "code",
   "execution_count": 1,
   "metadata": {
    "id": "tNGRVO7_g9mz"
   },
   "outputs": [],
   "source": [
    "import numpy as np\n",
    "import pandas as pd\n",
    "from typing import  List\n",
    "import matplotlib.pyplot as plt\n",
    "import seaborn as sns\n",
    "from string import punctuation"
   ]
  },
  {
   "cell_type": "code",
   "execution_count": 2,
   "metadata": {
    "colab": {
     "base_uri": "https://localhost:8080/",
     "height": 174
    },
    "id": "zOy8iHJQg_Ss",
    "outputId": "01951c93-1976-4fd2-b432-f9ec217dbd17"
   },
   "outputs": [
    {
     "data": {
      "text/html": [
       "<div>\n",
       "<style scoped>\n",
       "    .dataframe tbody tr th:only-of-type {\n",
       "        vertical-align: middle;\n",
       "    }\n",
       "\n",
       "    .dataframe tbody tr th {\n",
       "        vertical-align: top;\n",
       "    }\n",
       "\n",
       "    .dataframe thead th {\n",
       "        text-align: right;\n",
       "    }\n",
       "</style>\n",
       "<table border=\"1\" class=\"dataframe\">\n",
       "  <thead>\n",
       "    <tr style=\"text-align: right;\">\n",
       "      <th></th>\n",
       "      <th>UserName</th>\n",
       "      <th>ScreenName</th>\n",
       "      <th>Location</th>\n",
       "      <th>TweetAt</th>\n",
       "      <th>OriginalTweet</th>\n",
       "      <th>Sentiment</th>\n",
       "    </tr>\n",
       "  </thead>\n",
       "  <tbody>\n",
       "    <tr>\n",
       "      <th>10780</th>\n",
       "      <td>16884</td>\n",
       "      <td>61836</td>\n",
       "      <td>Toronto &amp; Sudbury</td>\n",
       "      <td>21-03-2020</td>\n",
       "      <td>If shortages have forced you to turn to produc...</td>\n",
       "      <td>Negative</td>\n",
       "    </tr>\n",
       "    <tr>\n",
       "      <th>22528</th>\n",
       "      <td>31332</td>\n",
       "      <td>76284</td>\n",
       "      <td>City of Angels</td>\n",
       "      <td>03-04-2020</td>\n",
       "      <td>NEW w/@jtemplon @a_cormier_ : HereÃÂs How Th...</td>\n",
       "      <td>Positive</td>\n",
       "    </tr>\n",
       "    <tr>\n",
       "      <th>31809</th>\n",
       "      <td>42931</td>\n",
       "      <td>87883</td>\n",
       "      <td>India</td>\n",
       "      <td>12-04-2020</td>\n",
       "      <td>Indian-American 7-Eleven store owner was arres...</td>\n",
       "      <td>Negative</td>\n",
       "    </tr>\n",
       "    <tr>\n",
       "      <th>25787</th>\n",
       "      <td>35386</td>\n",
       "      <td>80338</td>\n",
       "      <td>NaN</td>\n",
       "      <td>07-04-2020</td>\n",
       "      <td>.@Uber lists job openings in delivery/food pro...</td>\n",
       "      <td>Positive</td>\n",
       "    </tr>\n",
       "    <tr>\n",
       "      <th>29083</th>\n",
       "      <td>39493</td>\n",
       "      <td>84445</td>\n",
       "      <td>Chicago, IL</td>\n",
       "      <td>09-04-2020</td>\n",
       "      <td>??Casa Central is receiving donations of unuse...</td>\n",
       "      <td>Positive</td>\n",
       "    </tr>\n",
       "  </tbody>\n",
       "</table>\n",
       "</div>"
      ],
      "text/plain": [
       "       UserName  ScreenName            Location     TweetAt  \\\n",
       "10780     16884       61836   Toronto & Sudbury  21-03-2020   \n",
       "22528     31332       76284      City of Angels  03-04-2020   \n",
       "31809     42931       87883               India  12-04-2020   \n",
       "25787     35386       80338                 NaN  07-04-2020   \n",
       "29083     39493       84445         Chicago, IL  09-04-2020   \n",
       "\n",
       "                                           OriginalTweet Sentiment  \n",
       "10780  If shortages have forced you to turn to produc...  Negative  \n",
       "22528  NEW w/@jtemplon @a_cormier_ : HereÃÂs How Th...  Positive  \n",
       "31809  Indian-American 7-Eleven store owner was arres...  Negative  \n",
       "25787  .@Uber lists job openings in delivery/food pro...  Positive  \n",
       "29083  ??Casa Central is receiving donations of unuse...  Positive  "
      ]
     },
     "execution_count": 2,
     "metadata": {},
     "output_type": "execute_result"
    }
   ],
   "source": [
    "data = pd.read_csv('https://github.com/hse-ds/iad-intro-ds/raw/master/2024/homeworks/hw06_texts/tweets_coronavirus.csv', encoding='latin-1')\n",
    "data.sample(5)"
   ]
  },
  {
   "cell_type": "markdown",
   "metadata": {
    "id": "m2OiDog9ZBlS"
   },
   "source": [
    "Для каждого твитта указано:\n",
    "\n",
    "\n",
    "*   UserName - имя пользователя, заменено на целое число для анонимности\n",
    "*   ScreenName - отображающееся имя пользователя, заменено на целое число для анонимности\n",
    "*   Location - местоположение\n",
    "*   TweetAt - дата создания твитта\n",
    "*   OriginalTweet - текст твитта\n",
    "*   Sentiment - эмоциональная окраска твитта (целевая переменная)\n",
    "\n"
   ]
  },
  {
   "cell_type": "markdown",
   "metadata": {
    "id": "pZTMseDkhTC7"
   },
   "source": [
    "## Задание 1 Подготовка (0.5 балла)"
   ]
  },
  {
   "cell_type": "markdown",
   "metadata": {
    "id": "Xx2-odn9hdAW"
   },
   "source": [
    "Целевая переменная находится в колонке `Sentiment`.  Преобразуйте ее таким образом, чтобы она стала бинарной: 1 - если у твитта положительная эмоциональная окраска и 0 - если отрицательная."
   ]
  },
  {
   "cell_type": "code",
   "execution_count": 3,
   "metadata": {
    "id": "ZaQKQ1zEjP15"
   },
   "outputs": [],
   "source": [
    "data['Sentiment'] = data['Sentiment'].apply(lambda x: 1 if 'Positive' in x else 0)"
   ]
  },
  {
   "cell_type": "markdown",
   "metadata": {
    "id": "pGq1FxJ-kBo5"
   },
   "source": [
    "Сбалансированы ли классы?"
   ]
  },
  {
   "cell_type": "code",
   "execution_count": 4,
   "metadata": {
    "id": "a7gdNtxckK5V"
   },
   "outputs": [
    {
     "name": "stdout",
     "output_type": "stream",
     "text": [
      "Количество твиттов с положительной эмоциональной окраской (1): 18046\n",
      "Количество твиттов с отрицательной эмоциональной окраской (0): 15398\n"
     ]
    }
   ],
   "source": [
    "sentiment_counts = data['Sentiment'].value_counts()\n",
    "print(\"Количество твиттов с положительной эмоциональной окраской (1):\", sentiment_counts[1])\n",
    "print(\"Количество твиттов с отрицательной эмоциональной окраской (0):\", sentiment_counts[0])"
   ]
  },
  {
   "cell_type": "markdown",
   "metadata": {
    "id": "Ng8BCelMkWb0"
   },
   "source": [
    "**Ответ:** Классы не максимально сбалансированы, так как соотношение не 1 к 1, но достаточно хорошо сбалансированы"
   ]
  },
  {
   "cell_type": "markdown",
   "metadata": {
    "id": "qmSIBSsLk5Zz"
   },
   "source": [
    "Выведете на экран информацию о пропусках в данных. Если пропуски присутствуют заполните их строкой 'Unknown'."
   ]
  },
  {
   "cell_type": "code",
   "execution_count": 5,
   "metadata": {
    "id": "UhUVRkR5kxa7"
   },
   "outputs": [
    {
     "name": "stdout",
     "output_type": "stream",
     "text": [
      "UserName            0\n",
      "ScreenName          0\n",
      "Location         7049\n",
      "TweetAt             0\n",
      "OriginalTweet       0\n",
      "Sentiment           0\n",
      "dtype: int64\n"
     ]
    }
   ],
   "source": [
    "print(data.isnull().sum())\n",
    "data.fillna('Unknown', inplace=True)"
   ]
  },
  {
   "cell_type": "markdown",
   "metadata": {
    "id": "1tzt27tfjUpq"
   },
   "source": [
    "Разделите данные на обучающие и тестовые в соотношении 7 : 3 и `random_state=0`"
   ]
  },
  {
   "cell_type": "code",
   "execution_count": 6,
   "metadata": {
    "id": "xSLOA9tIj9Z6"
   },
   "outputs": [],
   "source": [
    "from sklearn.model_selection import train_test_split\n",
    "\n",
    "train, test = train_test_split(data, test_size=0.3, random_state=0)"
   ]
  },
  {
   "cell_type": "markdown",
   "metadata": {
    "id": "J9RrPUsJlL60"
   },
   "source": [
    "## Задание 2 Токенизация (3 балла)"
   ]
  },
  {
   "cell_type": "markdown",
   "metadata": {
    "id": "2Dz_b7Xopc_R"
   },
   "source": [
    "Постройте словарь на основе обучающей выборки и посчитайте количество встреч каждого токена с использованием самой простой токенизации - деления текстов по пробельным символам и приведение токенов в нижний регистр"
   ]
  },
  {
   "cell_type": "code",
   "execution_count": 7,
   "metadata": {
    "id": "SFr67WOJphny"
   },
   "outputs": [],
   "source": [
    "import nltk\n",
    "from nltk.tokenize import word_tokenize\n",
    "from collections import Counter\n",
    "\n",
    "train['OriginalTweet'] = train['OriginalTweet'].str.lower()\n",
    "corpus = ' '.join(train['OriginalTweet'])\n",
    "\n",
    "tokens = word_tokenize(corpus)\n",
    "token_counts = Counter(tokens)"
   ]
  },
  {
   "cell_type": "markdown",
   "metadata": {
    "id": "Pe0h2Jqkpnao"
   },
   "source": [
    "Какой размер словаря получился?"
   ]
  },
  {
   "cell_type": "code",
   "execution_count": 8,
   "metadata": {
    "id": "umyENA7EpokD"
   },
   "outputs": [
    {
     "name": "stdout",
     "output_type": "stream",
     "text": [
      "57432\n"
     ]
    }
   ],
   "source": [
    "print(len(token_counts))"
   ]
  },
  {
   "cell_type": "markdown",
   "metadata": {
    "id": "0d2G1Z-Qpqkd"
   },
   "source": [
    "Выведите 10 самых популярных токенов с количеством встреч каждого из них. Объясните, почему именно эти токены в топе"
   ]
  },
  {
   "cell_type": "code",
   "execution_count": 9,
   "metadata": {
    "id": "Impi32a_pssg"
   },
   "outputs": [
    {
     "name": "stdout",
     "output_type": "stream",
     "text": [
      "Токен: #, Количество упоминаний: 42753\n",
      "Токен: the, Количество упоминаний: 26928\n",
      "Токен: to, Количество упоминаний: 23466\n",
      "Токен: ., Количество упоминаний: 22529\n",
      "Токен: ,, Количество упоминаний: 17556\n",
      "Токен: :, Количество упоминаний: 16478\n",
      "Токен: and, Количество упоминаний: 14792\n",
      "Токен: of, Количество упоминаний: 13042\n",
      "Токен: https, Количество упоминаний: 12921\n",
      "Токен: a, Количество упоминаний: 11833\n"
     ]
    }
   ],
   "source": [
    "top_10_tokens = token_counts.most_common(10)\n",
    "for token, count in top_10_tokens:\n",
    "    print(f\"Токен: {token}, Количество упоминаний: {count}\")"
   ]
  },
  {
   "cell_type": "markdown",
   "metadata": {
    "id": "ZtuJCD0ApuFd"
   },
   "source": [
    "**Ответ:** все эти токены - знаки препинания, предлоги и начало ссылок(https)"
   ]
  },
  {
   "cell_type": "markdown",
   "metadata": {
    "id": "T7DTQDkWsVYp"
   },
   "source": [
    "Удалите стоп-слова из словаря и выведите новый топ-10 токенов (и количество встреч) по популярности.  Что можно сказать  о нем?"
   ]
  },
  {
   "cell_type": "code",
   "execution_count": 10,
   "metadata": {
    "id": "8csSAdgTsnFx"
   },
   "outputs": [
    {
     "name": "stdout",
     "output_type": "stream",
     "text": [
      "Токен: #, Количество упоминаний: 42753\n",
      "Токен: ., Количество упоминаний: 22529\n",
      "Токен: ,, Количество упоминаний: 17556\n",
      "Токен: :, Количество упоминаний: 16478\n",
      "Токен: https, Количество упоминаний: 12921\n",
      "Токен: ?, Количество упоминаний: 11033\n",
      "Токен: coronavirus, Количество упоминаний: 9964\n",
      "Токен: @, Количество упоминаний: 9959\n",
      "Токен: !, Количество упоминаний: 4700\n",
      "Токен: prices, Количество упоминаний: 4614\n"
     ]
    }
   ],
   "source": [
    "import nltk\n",
    "from nltk.corpus import stopwords\n",
    "\n",
    "stop_words = set(stopwords.words('english'))\n",
    "filtered_token_counts = {token: count for token, count in token_counts.items() if token not in stop_words}\n",
    "top_10_filtered_tokens = Counter(filtered_token_counts).most_common(10)\n",
    "for token, count in top_10_filtered_tokens:\n",
    "    print(f\"Токен: {token}, Количество упоминаний: {count}\")"
   ]
  },
  {
   "cell_type": "markdown",
   "metadata": {
    "id": "LZH0x2Lzs-Dh"
   },
   "source": [
    "**Ответ:**  теперь это знаки препинания"
   ]
  },
  {
   "cell_type": "markdown",
   "metadata": {
    "id": "TKSGRyI-uor0"
   },
   "source": [
    "Также выведите 20 самых непопулярных слов (если самых непопулярных слов больше выведите любые 20 из них) Почему эти токены непопулярны, требуется ли как-то дополнительно работать с ними?"
   ]
  },
  {
   "cell_type": "code",
   "execution_count": 11,
   "metadata": {
    "id": "moArbwfvun9t"
   },
   "outputs": [
    {
     "name": "stdout",
     "output_type": "stream",
     "text": [
      "Токен: //t.co/lw1r0rm7xs, Количество упоминаний: 1\n",
      "Токен: //t.co/5cbliqzx7l, Количество упоминаний: 1\n",
      "Токен: now.when, Количество упоминаний: 1\n",
      "Токен: milion, Количество упоминаний: 1\n",
      "Токен: skellig, Количество упоминаний: 1\n",
      "Токен: skelligsix18, Количество упоминаний: 1\n",
      "Токен: skelligcoast2kms, Количество упоминаний: 1\n",
      "Токен: southkerry, Количество упоминаний: 1\n",
      "Токен: //t.co/zjcl195vqs, Количество упоминаний: 1\n",
      "Токен: srinivasiyc, Количество упоминаний: 1\n",
      "Токен: //t.co/iaek4fwsgz, Количество упоминаний: 1\n",
      "Токен: premiership, Количество упоминаний: 1\n",
      "Токен: non-playing, Количество упоминаний: 1\n",
      "Токен: subsidise, Количество упоминаний: 1\n",
      "Токен: playersãâ, Количество упоминаний: 1\n",
      "Токен: renewing, Количество упоминаний: 1\n",
      "Токен: flew, Количество упоминаний: 1\n",
      "Токен: torontopearson, Количество упоминаний: 1\n",
      "Токен: 680news, Количество упоминаний: 1\n",
      "Токен: //t.co/7j2y3rsld9, Количество упоминаний: 1\n"
     ]
    }
   ],
   "source": [
    "bottom_20_tokens = Counter(filtered_token_counts).most_common()[-20:]\n",
    "for token, count in bottom_20_tokens:\n",
    "    print(f\"Токен: {token}, Количество упоминаний: {count}\")"
   ]
  },
  {
   "cell_type": "markdown",
   "metadata": {
    "id": "uRp3J1gQunlR"
   },
   "source": [
    "**Ответ:** это либо ссылки(например, //t.co/lw1r0rm7xs), либо опечатки (milion, например), либо просто редкие слова(playersã), либо отсутстие пробела(или между двумя словами точка)\n",
    "Надо постараться убрать ссылки (в них нет смысла) и избавиться от опечаток и прочих грамматических ошибок."
   ]
  },
  {
   "cell_type": "markdown",
   "metadata": {
    "id": "wx9LQOSPzvjV"
   },
   "source": [
    "Теперь воспользуемся токенайзером получше - TweetTokenizer из библиотеки nltk. Примените его и посмотрите на топ-10 популярных слов. Чем он отличается от топа, который получался раньше? Почему?"
   ]
  },
  {
   "cell_type": "code",
   "execution_count": 12,
   "metadata": {
    "id": "2G1UkyVxzvFY"
   },
   "outputs": [
    {
     "name": "stdout",
     "output_type": "stream",
     "text": [
      "Токен: the, Количество упоминаний: 26993\n",
      "Токен: ., Количество упоминаний: 24108\n",
      "Токен: to, Количество упоминаний: 23478\n",
      "Токен: ,, Количество упоминаний: 17571\n",
      "Токен: and, Количество упоминаний: 14825\n",
      "Токен: of, Количество упоминаний: 13044\n",
      "Токен: a, Количество упоминаний: 11891\n",
      "Токен: in, Количество упоминаний: 11348\n",
      "Токен: ?, Количество упоминаний: 9524\n",
      "Токен: #coronavirus, Количество упоминаний: 8808\n"
     ]
    }
   ],
   "source": [
    "from nltk.tokenize import TweetTokenizer\n",
    "\n",
    "tokenizer = TweetTokenizer()\n",
    "tokens_tweet = tokenizer.tokenize(corpus)\n",
    "token_counts_tweet = Counter(tokens_tweet)\n",
    "top_10_tokens_tweet = token_counts_tweet.most_common(10)\n",
    "for token, count in top_10_tokens_tweet:\n",
    "    print(f\"Токен: {token}, Количество упоминаний: {count}\")"
   ]
  },
  {
   "cell_type": "markdown",
   "metadata": {
    "id": "50eVUnJN1Zxl"
   },
   "source": [
    "**Ответ:** Теперь нет знака хэштэга (это объясняется тем, что токенайзер обучен на данных по Твиттеру, а там хэштеги очень популярны), знаков препинания стало меньше (хотя точка, запятая и знак вопроса), нет https(полагаю, токенайзер обучен так, что это часть ссылки), и 'coronavirus' объединился с хэштегом."
   ]
  },
  {
   "cell_type": "markdown",
   "metadata": {
    "id": "1gqQgiMs11bs"
   },
   "source": [
    "Удалите из словаря стоп-слова и пунктуацию, посмотрите на новый топ-10 слов с количеством встреч, есть ли теперь в нем что-то не похожее на слова?"
   ]
  },
  {
   "cell_type": "code",
   "execution_count": 13,
   "metadata": {
    "id": "0yHWdFrp0Mup"
   },
   "outputs": [
    {
     "name": "stdout",
     "output_type": "stream",
     "text": [
      "Токен: #coronavirus, Количество встреч: 8808\n",
      "Токен: â, Количество встреч: 7415\n",
      "Токен: , Количество встреч: 7311\n",
      "Токен: 19, Количество встреч: 7167\n",
      "Токен: covid, Количество встреч: 6253\n",
      "Токен: prices, Количество встреч: 4601\n",
      "Токен: , Количество встреч: 4372\n",
      "Токен: food, Количество встреч: 4367\n",
      "Токен: store, Количество встреч: 3877\n",
      "Токен: supermarket, Количество встреч: 3805\n"
     ]
    }
   ],
   "source": [
    "from string import punctuation\n",
    "\n",
    "stop_words = set(stopwords.words('english'))\n",
    "filtered_token_counts_tweet = {token: count for token, count in token_counts_tweet.items() \n",
    "                               if token.lower() not in stop_words and token not in punctuation}\n",
    "top_10_filtered_tokens_tweet = Counter(filtered_token_counts_tweet).most_common(10)\n",
    "for token, count in top_10_filtered_tokens_tweet:\n",
    "    print(f\"Токен: {token}, Количество встреч: {count}\")"
   ]
  },
  {
   "cell_type": "markdown",
   "metadata": {
    "id": "8ZJqXELP_Yxy"
   },
   "source": [
    "**Ответ:** Слова появились, но остались 19, эмодзи (как я понял, это они не распознаются) и буква â (она не английская, поэтому ее нет в стоп-словах)"
   ]
  },
  {
   "cell_type": "markdown",
   "metadata": {
    "id": "rzXjMsSB_kXB"
   },
   "source": [
    "Удалите из словаря токены из одного символа, с позицией в таблице Unicode 128 и более (`ord(x) >= 128`)\n",
    "\n",
    "Выведите топ-10 самых популярных и топ-20 непопулярных слов. Чем полученные топы отличаются от итоговых топов, полученных при использовании токенизации по пробелам? Что теперь лучше, а что хуже?"
   ]
  },
  {
   "cell_type": "code",
   "execution_count": 14,
   "metadata": {
    "id": "1695hlkS_1-J"
   },
   "outputs": [
    {
     "name": "stdout",
     "output_type": "stream",
     "text": [
      "Топ-10 самых популярных слов:\n",
      "Токен: #coronavirus, Количество встреч: 8808\n",
      "Токен: 19, Количество встреч: 7167\n",
      "Токен: covid, Количество встреч: 6253\n",
      "Токен: prices, Количество встреч: 4601\n",
      "Токен: food, Количество встреч: 4367\n",
      "Токен: store, Количество встреч: 3877\n",
      "Токен: supermarket, Количество встреч: 3805\n",
      "Токен: grocery, Количество встреч: 3523\n",
      "Токен: people, Количество встреч: 3463\n",
      "Токен: #covid19, Количество встреч: 2589\n"
     ]
    }
   ],
   "source": [
    "filtered_token_counts_tweet = {token: count for token, count in filtered_token_counts_tweet.items() \n",
    "                               if len(token) > 1 or all(ord(char) < 128 for char in token)}\n",
    "\n",
    "top_10_filtered_tokens_tweet = Counter(filtered_token_counts_tweet).most_common(10)\n",
    "print(\"Топ-10 самых популярных слов:\")\n",
    "for token, count in top_10_filtered_tokens_tweet:\n",
    "    print(f\"Токен: {token}, Количество встреч: {count}\")"
   ]
  },
  {
   "cell_type": "code",
   "execution_count": 15,
   "metadata": {},
   "outputs": [
    {
     "name": "stdout",
     "output_type": "stream",
     "text": [
      "Топ-20 самых непопулярных слов:\n",
      "Токен: https://t.co/lw1r0rm7xs, Количество встреч: 1\n",
      "Токен: https://t.co/5cbliqzx7l, Количество встреч: 1\n",
      "Токен: now.when, Количество встреч: 1\n",
      "Токен: milion, Количество встреч: 1\n",
      "Токен: skellig, Количество встреч: 1\n",
      "Токен: @skelligsix18, Количество встреч: 1\n",
      "Токен: #skelligcoast2kms, Количество встреч: 1\n",
      "Токен: #southkerry, Количество встреч: 1\n",
      "Токен: https://t.co/zjcl195vqs, Количество встреч: 1\n",
      "Токен: @srinivasiyc, Количество встреч: 1\n",
      "Токен: https://t.co/iaek4fwsgz, Количество встреч: 1\n",
      "Токен: premiership, Количество встреч: 1\n",
      "Токен: non-playing, Количество встреч: 1\n",
      "Токен: subsidise, Количество встреч: 1\n",
      "Токен: playersã, Количество встреч: 1\n",
      "Токен: renewing, Количество встреч: 1\n",
      "Токен: flew, Количество встреч: 1\n",
      "Токен: @torontopearson, Количество встреч: 1\n",
      "Токен: @680news, Количество встреч: 1\n",
      "Токен: https://t.co/7j2y3rsld9, Количество встреч: 1\n"
     ]
    }
   ],
   "source": [
    "bottom_20_filtered_tokens_tweet = Counter(filtered_token_counts_tweet).most_common()[-20:]\n",
    "print(\"Топ-20 самых непопулярных слов:\")\n",
    "for token, count in bottom_20_filtered_tokens_tweet:\n",
    "    print(f\"Токен: {token}, Количество встреч: {count}\")"
   ]
  },
  {
   "cell_type": "markdown",
   "metadata": {
    "id": "KzjHAKIlDvc6"
   },
   "source": [
    "**Ответ:** топ-10 стали еще лучше! там теперь только слова, хэштеги и '19'!, а топ-20 тоже лучше стал, так как некоторые слова дополнились знаком '#', а упомянутые аккаунты дополнились '@'. "
   ]
  },
  {
   "cell_type": "markdown",
   "metadata": {
    "id": "EcDf9_6HB2zm"
   },
   "source": [
    "Выведите топ-10 популярных хештегов с количеством встреч. Что можно сказать о них?"
   ]
  },
  {
   "cell_type": "code",
   "execution_count": 16,
   "metadata": {
    "id": "zk4fygCUBw3l"
   },
   "outputs": [
    {
     "name": "stdout",
     "output_type": "stream",
     "text": [
      "Топ-10 популярных хэштегов:\n",
      "Хэштег: #coronavirus, Количество встреч: 8808\n",
      "Хэштег: #covid19, Количество встреч: 2589\n",
      "Хэштег: #covid_19, Количество встреч: 1734\n",
      "Хэштег: #covid2019, Количество встреч: 946\n",
      "Хэштег: #toiletpaper, Количество встреч: 744\n",
      "Хэштег: #covid, Количество встреч: 641\n",
      "Хэштег: #socialdistancing, Количество встреч: 465\n",
      "Хэштег: #coronacrisis, Количество встреч: 448\n",
      "Хэштег: #pandemic, Количество встреч: 257\n",
      "Хэштег: #coronaviruspandemic, Количество встреч: 249\n"
     ]
    }
   ],
   "source": [
    "hashtag_counts = {}\n",
    "\n",
    "for token, count in token_counts_tweet.items():\n",
    "    if token.startswith('#'):\n",
    "        hashtag_counts[token] = count\n",
    "\n",
    "top_10_hashtags = Counter(hashtag_counts).most_common(10)\n",
    "print(\"Топ-10 популярных хэштегов:\")\n",
    "for hashtag, count in top_10_hashtags:\n",
    "    print(f\"Хэштег: {hashtag}, Количество встреч: {count}\")\n",
    "\n"
   ]
  },
  {
   "cell_type": "markdown",
   "metadata": {
    "id": "-6NeNWBkDxM7"
   },
   "source": [
    "**Ответ:** 8 из них напрямую связаны с пандемией/коронавирусом. #socialdistancing связан с популяризацией соблюдения дистанции с целью борьбы с распространением вируса, а #toiletpaper, полагаю, связан с дефицитом туалетной бумаги из-за паники в начале пандемии."
   ]
  },
  {
   "cell_type": "markdown",
   "metadata": {
    "id": "LLYBg7caD5GA"
   },
   "source": [
    "То же самое проделайте для ссылок на сайт https://t.co Сравнима ли популярность ссылок с популярностью хештегов? Будет ли информация о ссылке на конкретную страницу полезна?"
   ]
  },
  {
   "cell_type": "code",
   "execution_count": 17,
   "metadata": {
    "id": "MXbm1oeaCK9S"
   },
   "outputs": [
    {
     "name": "stdout",
     "output_type": "stream",
     "text": [
      "Топ-10 популярных ссылок на сайт 'https://t.co:''\n",
      "Ссылка: https://t.co/oxa7swtond, Количество встреч: 5\n",
      "Ссылка: https://t.co/gp3eusapl8, Количество встреч: 4\n",
      "Ссылка: https://t.co/deftrui1pfãâ, Количество встреч: 3\n",
      "Ссылка: https://t.co/wrlhyzizaa, Количество встреч: 3\n",
      "Ссылка: https://t.co/kuwipf1kqw, Количество встреч: 3\n",
      "Ссылка: https://t.co/zjnrx6dkkn, Количество встреч: 3\n",
      "Ссылка: https://t.co/3gbbdpdjat, Количество встреч: 3\n",
      "Ссылка: https://t.co/e2znxajpre, Количество встреч: 3\n",
      "Ссылка: https://t.co/catkegayoy, Количество встреч: 3\n",
      "Ссылка: https://t.co/g63rp042ho, Количество встреч: 3\n"
     ]
    }
   ],
   "source": [
    "link_counts = {}\n",
    "for token, count in token_counts_tweet.items():\n",
    "    if token.startswith('https://t.co'):\n",
    "        link_counts[token] = count\n",
    "\n",
    "top_10_links = Counter(link_counts).most_common(10)\n",
    "print(\"Топ-10 популярных ссылок на сайт 'https://t.co:''\")\n",
    "for link, count in top_10_links:\n",
    "    print(f\"Ссылка: {link}, Количество встреч: {count}\")"
   ]
  },
  {
   "cell_type": "markdown",
   "metadata": {
    "id": "at6lRYZ8A07N"
   },
   "source": [
    "**Ответ:** Подобные ссылки нам не нужны, они вообще не популярны и не ведут на какой-то сайт(как я понял, это ссылки на твиты, которых уже нет)"
   ]
  },
  {
   "cell_type": "markdown",
   "metadata": {
    "id": "IOGdUU1kBU1D"
   },
   "source": [
    "Используем опыт предыдущих экспериментов и напишем собственный токенайзер, улучшив TweetTokenizer. Функция tokenize должна:\n",
    "\n",
    "\n",
    "\n",
    "*   Привести текст в нижний регистр\n",
    "*   Применить TweetTokenizer для изначального выделения токенов\n",
    "*   Удалить стоп-слова, пунктуацию, токены из одного символа, с позицией в таблице Unicode 128 и более и ссылки на t.co\n",
    "\n"
   ]
  },
  {
   "cell_type": "code",
   "execution_count": 18,
   "metadata": {
    "id": "ctEsB6xkFrrK"
   },
   "outputs": [],
   "source": [
    "from nltk.tokenize import TweetTokenizer\n",
    "from nltk.corpus import stopwords\n",
    "from string import punctuation\n",
    "\n",
    "def custom_tokenizer(text):\n",
    "    text = text.lower()\n",
    "    tokenizer = TweetTokenizer()\n",
    "    tokens = tokenizer.tokenize(text)\n",
    "    stop_words = stopwords.words('english')\n",
    "    tokens = [token for token in tokens if token not in stop_words]\n",
    "    tokens = [token for token in tokens if token not in punctuation]    \n",
    "    tokens = [token for token in tokens if not token.startswith('https://t.co')]\n",
    "    tokens = [token for token in tokens if (len(token) > 1 or all(ord(char) < 128 for char in token))]\n",
    "    return tokens"
   ]
  },
  {
   "cell_type": "code",
   "execution_count": 19,
   "metadata": {
    "colab": {
     "base_uri": "https://localhost:8080/"
    },
    "id": "XwbgtYkJGYym",
    "outputId": "5808765b-3448-45e6-ccc1-7cd65f6371ef"
   },
   "outputs": [
    {
     "data": {
      "text/plain": [
       "['sample', 'text', '@sample_text', '#sampletext']"
      ]
     },
     "execution_count": 19,
     "metadata": {},
     "output_type": "execute_result"
    }
   ],
   "source": [
    "custom_tokenizer('This is sample text!!!! @Sample_text I, \\x92\\x92 https://t.co/sample  #sampletext')"
   ]
  },
  {
   "cell_type": "markdown",
   "metadata": {
    "id": "wURVABmXHk97"
   },
   "source": [
    "## Задание 3 Векторизация текстов (2 балла)"
   ]
  },
  {
   "cell_type": "markdown",
   "metadata": {
    "id": "H44iXkoHIQfN"
   },
   "source": [
    "Обучите CountVectorizer с использованием custom_tokenizer в качестве токенайзера. Как размер полученного словаря соотносится с размером изначального словаря из начала задания 2?"
   ]
  },
  {
   "cell_type": "code",
   "execution_count": 20,
   "metadata": {},
   "outputs": [
    {
     "name": "stderr",
     "output_type": "stream",
     "text": [
      "/Users/andrewivanov/anaconda3/lib/python3.10/site-packages/sklearn/feature_extraction/text.py:528: UserWarning: The parameter 'token_pattern' will not be used since 'tokenizer' is not None'\n",
      "  warnings.warn(\n"
     ]
    },
    {
     "name": "stdout",
     "output_type": "stream",
     "text": [
      "45308\n"
     ]
    }
   ],
   "source": [
    "from sklearn.feature_extraction.text import CountVectorizer\n",
    "\n",
    "cv = CountVectorizer(tokenizer=custom_tokenizer)\n",
    "tweet_corpus = train['OriginalTweet']\n",
    "X = cv.fit_transform(train['OriginalTweet'])\n",
    "print(len(cv.vocabulary_))"
   ]
  },
  {
   "cell_type": "markdown",
   "metadata": {
    "id": "gsfmaSGoItUm"
   },
   "source": [
    "**Ответ:** Размер словаря сильно меньше, чем был изначально. Это объясняется тем, что мы почистили словарь от пунктуации, стоп-слов, ссылок и слов из одной буквы с ord >= 128"
   ]
  },
  {
   "cell_type": "markdown",
   "metadata": {
    "id": "lm6UHNmqKZT0"
   },
   "source": [
    "Посмотрим на какой-нибудь конкретный твитт:"
   ]
  },
  {
   "cell_type": "code",
   "execution_count": 21,
   "metadata": {
    "id": "aJVjjfqOJh8m"
   },
   "outputs": [
    {
     "data": {
      "text/plain": [
       "('nice one @skynews lets not panic but show ppl in france queueing for food!!! #coronavirusoutbreak #covid2019 brainless!! ffs',\n",
       " 0)"
      ]
     },
     "execution_count": 21,
     "metadata": {},
     "output_type": "execute_result"
    }
   ],
   "source": [
    "ind = 9023\n",
    "train.iloc[ind]['OriginalTweet'], train.iloc[ind]['Sentiment']"
   ]
  },
  {
   "cell_type": "markdown",
   "metadata": {
    "id": "PBMIHBI5KdaS"
   },
   "source": [
    "Автор твитта не доволен ситуацией с едой во Франции и текст имеет резко негативную окраску.\n",
    "\n",
    "Примените обученный CountVectorizer для векторизации данного текста, и попытайтесь определить самый важный токен и самый неважный токен (токен, компонента которого в векторе максимальна/минимальна, без учета 0). Хорошо ли они определились, почему?"
   ]
  },
  {
   "cell_type": "code",
   "execution_count": 22,
   "metadata": {
    "id": "7NcAllaEKsJj"
   },
   "outputs": [
    {
     "name": "stdout",
     "output_type": "stream",
     "text": [
      "  (0, 1833)\t1\n",
      "  (0, 2046)\t1\n",
      "  (0, 16658)\t1\n",
      "  (0, 20553)\t1\n",
      "  (0, 26665)\t1\n",
      "  (0, 27042)\t1\n",
      "  (0, 27233)\t1\n",
      "  (0, 31579)\t1\n",
      "  (0, 34079)\t1\n",
      "  (0, 34688)\t1\n",
      "  (0, 35257)\t1\n",
      "  (0, 36413)\t1\n",
      "  (0, 37229)\t1\n",
      "  (0, 39919)\t1\n"
     ]
    },
    {
     "data": {
      "text/plain": [
       "('#coronavirusoutbreak', '###covid-19')"
      ]
     },
     "execution_count": 22,
     "metadata": {},
     "output_type": "execute_result"
    }
   ],
   "source": [
    "ind = 9023\n",
    "tweet_text = train.iloc[ind]['OriginalTweet']\n",
    "tweet_vector = cv.transform([tweet_text])\n",
    "\n",
    "print(tweet_vector)\n",
    "max_index = tweet_vector.argmax()\n",
    "min_index = tweet_vector.argmin()\n",
    "max_token = list(cv.vocabulary_.keys())[list(cv.vocabulary_.values()).index(max_index)]\n",
    "min_token = list(cv.vocabulary_.keys())[list(cv.vocabulary_.values()).index(min_index)]\n",
    "\n",
    "max_token, min_token\n"
   ]
  },
  {
   "cell_type": "markdown",
   "metadata": {
    "id": "TpEsl1k_NF4T"
   },
   "source": [
    "**Ответ:** Важность токенов вообще не определилась, потому что он считал частоту токенов в этом тексте, и просто получается, что каждое слово упомянуты по разу, а значит все они равны по важности."
   ]
  },
  {
   "cell_type": "markdown",
   "metadata": {
    "id": "w4DsEQpLO3J6"
   },
   "source": [
    "Теперь примените TfidfVectorizer и  определите самый важный/неважный токены. Хорошо ли определились, почему?"
   ]
  },
  {
   "cell_type": "code",
   "execution_count": 23,
   "metadata": {
    "id": "uSNzdK3ENGB3"
   },
   "outputs": [
    {
     "name": "stdout",
     "output_type": "stream",
     "text": [
      "  (0, 39919)\t0.24406492401820118\n",
      "  (0, 37229)\t0.35434556333216544\n",
      "  (0, 36413)\t0.2550064610386691\n",
      "  (0, 35257)\t0.14759470306326164\n",
      "  (0, 34688)\t0.16306722855395073\n",
      "  (0, 34079)\t0.2542729176022132\n",
      "  (0, 31579)\t0.30121070136861045\n",
      "  (0, 27233)\t0.32047314046539654\n",
      "  (0, 27042)\t0.11328893069250721\n",
      "  (0, 26665)\t0.3244741764513268\n",
      "  (0, 20553)\t0.3867641170466375\n",
      "  (0, 16658)\t0.31042634466284263\n",
      "  (0, 2046)\t0.16825192939361902\n",
      "  (0, 1833)\t0.22584265007428544\n"
     ]
    },
    {
     "data": {
      "text/plain": [
       "('brainless', '###covid-19')"
      ]
     },
     "execution_count": 23,
     "metadata": {},
     "output_type": "execute_result"
    }
   ],
   "source": [
    "from sklearn.feature_extraction.text import TfidfVectorizer\n",
    "tfidf_vectorizer = TfidfVectorizer(tokenizer=custom_tokenizer)\n",
    "X_tfidf = tfidf_vectorizer.fit_transform(train['OriginalTweet'])\n",
    "tweet_tfidf_vector = tfidf_vectorizer.transform([tweet_text])\n",
    "print(tweet_tfidf_vector)\n",
    "max_index_tfidf = tweet_tfidf_vector.argmax()\n",
    "min_index_tfidf = tweet_tfidf_vector.argmin()\n",
    "max_token_tfidf = list(tfidf_vectorizer.vocabulary_.keys())[list(tfidf_vectorizer.vocabulary_.values()).index(max_index_tfidf)]\n",
    "min_token_tfidf = list(tfidf_vectorizer.vocabulary_.keys())[list(tfidf_vectorizer.vocabulary_.values()).index(min_index_tfidf)]\n",
    "\n",
    "max_token_tfidf, min_token_tfidf\n"
   ]
  },
  {
   "cell_type": "markdown",
   "metadata": {
    "id": "NYao_UhqQADm"
   },
   "source": [
    "**Ответ:** Здесь важность гораздо лучше определилась, потому что TF-IDF считает не только по данному твиту, но и по совокупности всех текстов."
   ]
  },
  {
   "cell_type": "markdown",
   "metadata": {
    "id": "LGRJPqfWSesQ"
   },
   "source": [
    "Найдите какой-нибудь положительно окрашенный твитт, где TfidfVectorizer хорошо (полезно для определения окраски) выделяет важный токен, поясните пример.\n",
    "\n",
    "*Подсказка:* явно положительные твитты можно искать при помощи положительных слов (good, great, amazing и т. д.)"
   ]
  },
  {
   "cell_type": "code",
   "execution_count": 24,
   "metadata": {},
   "outputs": [
    {
     "name": "stdout",
     "output_type": "stream",
     "text": [
      "let s just take a minute to say thank you also to the amazing postal workers so many real people behind a click of online shopping and getting cards delivered thank   you   19\n",
      "  (0, 44921)\t0.1514104788394431\n",
      "  (0, 42251)\t0.3691299729428483\n",
      "  (0, 41881)\t0.17642821335223333\n",
      "  (0, 39863)\t0.13967487683042282\n",
      "  (0, 39117)\t0.20055018776835395\n",
      "  (0, 37556)\t0.21925345625365103\n",
      "  (0, 36334)\t0.2993677027383562\n",
      "  (0, 35628)\t0.11898135781908498\n",
      "  (0, 34714)\t0.1423478833529413\n",
      "  (0, 33093)\t0.29447593282367407\n",
      "  (0, 32407)\t0.1705077944503823\n",
      "  (0, 31573)\t0.21263423966251038\n",
      "  (0, 27756)\t0.19726227818071368\n",
      "  (0, 23951)\t0.25775545309252745\n",
      "  (0, 22051)\t0.25686716144204225\n",
      "  (0, 21263)\t0.2809984803053545\n",
      "  (0, 19901)\t0.25431735632719876\n",
      "  (0, 18544)\t0.2500353203109799\n",
      "  (0, 18505)\t0.17861928808211908\n",
      "  (0, 10262)\t0.08634631973114963\n"
     ]
    },
    {
     "data": {
      "text/plain": [
       "'thank'"
      ]
     },
     "execution_count": 24,
     "metadata": {},
     "output_type": "execute_result"
    }
   ],
   "source": [
    "positive_tweets_with_great = train[train['OriginalTweet'].apply(lambda x: 'amazing' in x.lower()) & (train['Sentiment'] == 1)]\n",
    "from sklearn.feature_extraction.text import TfidfVectorizer\n",
    "positive_tweet = positive_tweets_with_great.iloc[3]['OriginalTweet']\n",
    "print(positive_tweet)\n",
    "tfidf_vectorizer = TfidfVectorizer(tokenizer=custom_tokenizer)\n",
    "X_tfidf = tfidf_vectorizer.fit_transform(tweet_corpus)\n",
    "tweet_tfidf_vector = tfidf_vectorizer.transform([positive_tweet])\n",
    "print(tweet_tfidf_vector)\n",
    "max_index_tfidf = tweet_tfidf_vector.argmax()\n",
    "max_token_tfidf = list(tfidf_vectorizer.vocabulary_.keys())[list(tfidf_vectorizer.vocabulary_.values()).index(max_index_tfidf)]\n",
    "max_token_tfidf\n"
   ]
  },
  {
   "cell_type": "markdown",
   "metadata": {
    "id": "JTv9ST2_U6NA"
   },
   "source": [
    "**Ответ:** здесь слово 'thank' самое важное за счет того, что упомянуто дважды, но оно все равно очень помогает определить окраску твита, так как в нем благодарят работников, что очень даже положительно;)"
   ]
  },
  {
   "cell_type": "markdown",
   "metadata": {
    "id": "JVEuZm8BHms6"
   },
   "source": [
    "## Задание 4 Обучение первых моделей (1 балл)"
   ]
  },
  {
   "cell_type": "markdown",
   "metadata": {
    "id": "JADkO3sfXdOG"
   },
   "source": [
    "Примените оба векторайзера для получения матриц с признаками текстов.  Выделите целевую переменную."
   ]
  },
  {
   "cell_type": "code",
   "execution_count": 25,
   "metadata": {
    "id": "DguoiXhCX2oN"
   },
   "outputs": [],
   "source": [
    "count_vectorizer = CountVectorizer(tokenizer=custom_tokenizer)\n",
    "tfidf_vectorizer = TfidfVectorizer(tokenizer=custom_tokenizer)\n",
    "tweet_corpus_train = tweet_corpus\n",
    "X_count_train = count_vectorizer.fit_transform(tweet_corpus_train)\n",
    "X_tfidf_train = tfidf_vectorizer.fit_transform(tweet_corpus_train)\n",
    "y_train = train['Sentiment'].values"
   ]
  },
  {
   "cell_type": "markdown",
   "metadata": {
    "id": "_FX1KSOfYSx4"
   },
   "source": [
    "Обучите логистическую регрессию на векторах из обоих векторайзеров. Посчитайте долю правильных ответов на обучающих и тестовых данных. Какой векторайзер показал лучший результат? Что можно сказать о моделях?"
   ]
  },
  {
   "cell_type": "code",
   "execution_count": 26,
   "metadata": {},
   "outputs": [],
   "source": [
    "tweet_corpus_test = test['OriginalTweet']\n",
    "X_count_test = count_vectorizer.transform(tweet_corpus_test)\n",
    "X_tfidf_test = tfidf_vectorizer.transform(tweet_corpus_test)\n",
    "y_test = test['Sentiment'].values"
   ]
  },
  {
   "cell_type": "code",
   "execution_count": 27,
   "metadata": {
    "id": "-Tb3eh8UXJ6v"
   },
   "outputs": [
    {
     "name": "stderr",
     "output_type": "stream",
     "text": [
      "/Users/andrewivanov/anaconda3/lib/python3.10/site-packages/sklearn/linear_model/_logistic.py:458: ConvergenceWarning: lbfgs failed to converge (status=1):\n",
      "STOP: TOTAL NO. of ITERATIONS REACHED LIMIT.\n",
      "\n",
      "Increase the number of iterations (max_iter) or scale the data as shown in:\n",
      "    https://scikit-learn.org/stable/modules/preprocessing.html\n",
      "Please also refer to the documentation for alternative solver options:\n",
      "    https://scikit-learn.org/stable/modules/linear_model.html#logistic-regression\n",
      "  n_iter_i = _check_optimize_result(\n"
     ]
    },
    {
     "name": "stdout",
     "output_type": "stream",
     "text": [
      "Accuracy для CountVectorizer (обучающая выборка): 0.9844510892780863\n",
      "Accuracy для CountVectorizer (тестовая выборка): 0.8674506677297189\n",
      "Accuracy для TfidfVectorizer (обучающая выборка): 0.9254592054677488\n",
      "Accuracy для TfidfVectorizer (тестовая выборка): 0.8531991229818616\n"
     ]
    }
   ],
   "source": [
    "from sklearn.linear_model import LogisticRegression\n",
    "from sklearn.metrics import accuracy_score\n",
    "\n",
    "\n",
    "logreg_count = LogisticRegression()\n",
    "logreg_count.fit(X_count_train, y_train)\n",
    "logreg_tfidf = LogisticRegression()\n",
    "logreg_tfidf.fit(X_tfidf_train, y_train)\n",
    "\n",
    "y_count_train_pred = logreg_count.predict(X_count_train)\n",
    "y_count_test_pred = logreg_count.predict(X_count_test)\n",
    "y_tfidf_train_pred = logreg_tfidf.predict(X_tfidf_train)\n",
    "y_tfidf_test_pred = logreg_tfidf.predict(X_tfidf_test)\n",
    "\n",
    "train_accuracy_count = accuracy_score(y_train, y_count_train_pred)\n",
    "test_accuracy_count = accuracy_score(y_test, y_count_test_pred)\n",
    "train_accuracy_tfidf = accuracy_score(y_train, y_tfidf_train_pred)\n",
    "test_accuracy_tfidf = accuracy_score(y_test, y_tfidf_test_pred)\n",
    "\n",
    "print(\"Accuracy для CountVectorizer (обучающая выборка):\", train_accuracy_count)\n",
    "print(\"Accuracy для CountVectorizer (тестовая выборка):\", test_accuracy_count)\n",
    "print(\"Accuracy для TfidfVectorizer (обучающая выборка):\", train_accuracy_tfidf)\n",
    "print(\"Accuracy для TfidfVectorizer (тестовая выборка):\", test_accuracy_tfidf)"
   ]
  },
  {
   "cell_type": "markdown",
   "metadata": {
    "id": "8y_wO7rCmv7K"
   },
   "source": [
    "**Ответ:** Count Vectorizer показал лучший результат на обеих выборках. TF_IDF более сложная модель, и, казалось бы, должна работать лучше, потому что она не дает одинаковые веса всем словам, но получается, что в данной ситуации так не работает, и более простой Count Vectorizer показал бОльшую точность. "
   ]
  },
  {
   "cell_type": "markdown",
   "metadata": {
    "id": "rSOR1i3mjrys"
   },
   "source": [
    "## Задание 5 Стемминг (0.5 балла)"
   ]
  },
  {
   "cell_type": "markdown",
   "metadata": {
    "id": "i6ONBWNPjuq-"
   },
   "source": [
    "Для уменьшения словаря можно использовать стемминг.\n",
    "\n",
    "Модифицируйте написанный токенайзер, добавив в него стемминг с использованием SnowballStemmer. Обучите Count- и Tfidf- векторайзеры. Как изменился размер словаря?"
   ]
  },
  {
   "cell_type": "code",
   "execution_count": 28,
   "metadata": {
    "id": "oVfA2-iMkQBb"
   },
   "outputs": [],
   "source": [
    "from nltk.stem import SnowballStemmer\n",
    "\n",
    "def custom_stem_tokenizer(text):\n",
    "    text = text.lower()\n",
    "    tokenizer = TweetTokenizer()\n",
    "    tokens = tokenizer.tokenize(text)\n",
    "    stop_words = set(stopwords.words('english'))\n",
    "    tokens = [token for token in tokens if token not in stop_words and token not in punctuation and (len(token) > 1 or all(ord(char) < 128 for char in token)) and not token.startswith('https://t.co')]\n",
    "    stemmer = SnowballStemmer('english')\n",
    "    tokens = [stemmer.stem(token) for token in tokens]\n",
    "    return tokens\n"
   ]
  },
  {
   "cell_type": "code",
   "execution_count": 29,
   "metadata": {
    "colab": {
     "base_uri": "https://localhost:8080/"
    },
    "id": "9QmrjYtqnlPd",
    "outputId": "cd91291d-9676-4611-9fc4-28afaed58963"
   },
   "outputs": [
    {
     "data": {
      "text/plain": [
       "['sampl', 'text', '@sample_text', '#sampletext', 'ad', 'word', 'check', 'stem']"
      ]
     },
     "execution_count": 29,
     "metadata": {},
     "output_type": "execute_result"
    }
   ],
   "source": [
    "custom_stem_tokenizer('This is sample text!!!! @Sample_text I, \\x92\\x92 https://t.co/sample  #sampletext adding more words to check stemming')"
   ]
  },
  {
   "cell_type": "code",
   "execution_count": 30,
   "metadata": {},
   "outputs": [
    {
     "name": "stderr",
     "output_type": "stream",
     "text": [
      "/Users/andrewivanov/anaconda3/lib/python3.10/site-packages/sklearn/feature_extraction/text.py:528: UserWarning: The parameter 'token_pattern' will not be used since 'tokenizer' is not None'\n",
      "  warnings.warn(\n"
     ]
    },
    {
     "name": "stdout",
     "output_type": "stream",
     "text": [
      "36652\n"
     ]
    }
   ],
   "source": [
    "cv = CountVectorizer(tokenizer=custom_stem_tokenizer)\n",
    "tweet_corpus_train = train['OriginalTweet']\n",
    "X_count_train = cv.fit_transform(train['OriginalTweet'])\n",
    "print(len(cv.vocabulary_))"
   ]
  },
  {
   "cell_type": "code",
   "execution_count": 31,
   "metadata": {},
   "outputs": [],
   "source": [
    "tfidf = TfidfVectorizer(tokenizer=custom_stem_tokenizer)\n",
    "X_tfidf_train = tfidf.fit_transform(train['OriginalTweet'])"
   ]
  },
  {
   "cell_type": "markdown",
   "metadata": {
    "id": "Oyzs5TaAoHP6"
   },
   "source": [
    "**Ответ** размер словаря снизился, потому что теперь больше нет однокоренных слов."
   ]
  },
  {
   "cell_type": "markdown",
   "metadata": {
    "id": "1OkncHI8oRmd"
   },
   "source": [
    "Обучите логистическую регрессию с использованием обоих векторайзеров. Изменилось ли качество? Есть ли смысл применять стемминг?"
   ]
  },
  {
   "cell_type": "code",
   "execution_count": 32,
   "metadata": {
    "id": "ykZJPphEoZ5W"
   },
   "outputs": [
    {
     "name": "stderr",
     "output_type": "stream",
     "text": [
      "/Users/andrewivanov/anaconda3/lib/python3.10/site-packages/sklearn/linear_model/_logistic.py:458: ConvergenceWarning: lbfgs failed to converge (status=1):\n",
      "STOP: TOTAL NO. of ITERATIONS REACHED LIMIT.\n",
      "\n",
      "Increase the number of iterations (max_iter) or scale the data as shown in:\n",
      "    https://scikit-learn.org/stable/modules/preprocessing.html\n",
      "Please also refer to the documentation for alternative solver options:\n",
      "    https://scikit-learn.org/stable/modules/linear_model.html#logistic-regression\n",
      "  n_iter_i = _check_optimize_result(\n"
     ]
    },
    {
     "name": "stdout",
     "output_type": "stream",
     "text": [
      "Accuracy для CountVectorizer (обучающая выборка): 0.9717642033319095\n",
      "Accuracy для CountVectorizer (тестовая выборка): 0.8674506677297189\n",
      "Accuracy для TfidfVectorizer (обучающая выборка): 0.9158906450234943\n",
      "Accuracy для TfidfVectorizer (тестовая выборка): 0.8560892963922663\n"
     ]
    }
   ],
   "source": [
    "cv = CountVectorizer(tokenizer=custom_stem_tokenizer)\n",
    "tfidf = TfidfVectorizer(tokenizer=custom_stem_tokenizer)\n",
    "tweet_corpus_train = train['OriginalTweet']\n",
    "X_count_train = cv.fit_transform(train['OriginalTweet'])\n",
    "X_tfidf_train = tfidf.fit_transform(train['OriginalTweet'])\n",
    "y_train = train['Sentiment'].values\n",
    "tweet_corpus_test = test['OriginalTweet']\n",
    "X_count_test = cv.transform(tweet_corpus_test)\n",
    "X_tfidf_test = tfidf.transform(tweet_corpus_test)\n",
    "y_test = test['Sentiment'].values\n",
    "\n",
    "logreg_count = LogisticRegression()\n",
    "logreg_count.fit(X_count_train, y_train)\n",
    "logreg_tfidf = LogisticRegression()\n",
    "logreg_tfidf.fit(X_tfidf_train, y_train)\n",
    "\n",
    "y_count_train_pred = logreg_count.predict(X_count_train)\n",
    "y_count_test_pred = logreg_count.predict(X_count_test)\n",
    "y_tfidf_train_pred = logreg_tfidf.predict(X_tfidf_train)\n",
    "y_tfidf_test_pred = logreg_tfidf.predict(X_tfidf_test)\n",
    "\n",
    "train_accuracy_count_1 = accuracy_score(y_train, y_count_train_pred)\n",
    "test_accuracy_count_1 = accuracy_score(y_test, y_count_test_pred)\n",
    "train_accuracy_tfidf_1 = accuracy_score(y_train, y_tfidf_train_pred)\n",
    "test_accuracy_tfidf_1 = accuracy_score(y_test, y_tfidf_test_pred)\n",
    "\n",
    "print(\"Accuracy для CountVectorizer (обучающая выборка):\", train_accuracy_count_1)\n",
    "print(\"Accuracy для CountVectorizer (тестовая выборка):\", test_accuracy_count_1)\n",
    "print(\"Accuracy для TfidfVectorizer (обучающая выборка):\", train_accuracy_tfidf_1)\n",
    "print(\"Accuracy для TfidfVectorizer (тестовая выборка):\", test_accuracy_tfidf_1)"
   ]
  },
  {
   "cell_type": "markdown",
   "metadata": {
    "id": "bCRlrODro0h8"
   },
   "source": [
    " **Ответ:** У CV точность упала на обучающей, и вообще не поменялась на тестовой. У TD-IDF на обучающей тоже упала, а на тестовой выросла на 0.003"
   ]
  },
  {
   "cell_type": "markdown",
   "metadata": {
    "id": "hYWGQNEDqLC-"
   },
   "source": [
    "## Задание  6 Работа с частотами (1.5 балла)"
   ]
  },
  {
   "cell_type": "markdown",
   "metadata": {
    "id": "8Hq-tl5mqUSn"
   },
   "source": [
    "Еще один способ уменьшить количество признаков - это использовать параметры min_df и max_df при построении векторайзера  эти параметры помогают ограничить требуемую частоту встречаемости токена в документах.\n",
    "\n",
    "По умолчанию берутся все токены, которые встретились хотя бы один раз.\n",
    "\n"
   ]
  },
  {
   "cell_type": "markdown",
   "metadata": {
    "id": "m1SiD4DE3WZ2"
   },
   "source": [
    "Подберите max_df такой, что размер словаря будет 36651 (на 1 меньше, чем было). Почему параметр получился такой большой/маленький?"
   ]
  },
  {
   "cell_type": "code",
   "execution_count": 33,
   "metadata": {},
   "outputs": [
    {
     "name": "stderr",
     "output_type": "stream",
     "text": [
      "/Users/andrewivanov/anaconda3/lib/python3.10/site-packages/sklearn/feature_extraction/text.py:528: UserWarning: The parameter 'token_pattern' will not be used since 'tokenizer' is not None'\n",
      "  warnings.warn(\n"
     ]
    },
    {
     "name": "stdout",
     "output_type": "stream",
     "text": [
      "0.33 36651\n",
      "0.32 36651\n",
      "0.31 36651\n",
      "0.3 36651\n",
      "Размер словаря: 36650 0.29\n",
      "36650\n"
     ]
    }
   ],
   "source": [
    "max_df = 0.33\n",
    "while True:\n",
    "    cv_df = CountVectorizer(tokenizer=custom_stem_tokenizer, max_df=max_df).fit(tweet_corpus_train)\n",
    "    vocab_size = len(cv_df.vocabulary_)\n",
    "    if vocab_size < 36651:\n",
    "        break\n",
    "    print(max_df, vocab_size)\n",
    "    max_df -= 0.01\n",
    "\n",
    "print(\"Размер словаря:\", vocab_size, max_df)\n",
    "\n",
    "cv_df = CountVectorizer(tokenizer=custom_stem_tokenizer, max_df=max_df).fit(tweet_corpus_train)\n",
    "print(len(cv_df.vocabulary_))"
   ]
  },
  {
   "cell_type": "code",
   "execution_count": 34,
   "metadata": {
    "colab": {
     "base_uri": "https://localhost:8080/"
    },
    "id": "o3YLb8PViExb",
    "outputId": "b6d67654-d232-4e11-a5ca-6f2145053e98"
   },
   "outputs": [
    {
     "name": "stdout",
     "output_type": "stream",
     "text": [
      "36651\n"
     ]
    }
   ],
   "source": [
    "cv_df = CountVectorizer(tokenizer=custom_stem_tokenizer, max_df=max_df+0.01).fit(tweet_corpus_train)\n",
    "print(len(cv_df.vocabulary_))"
   ]
  },
  {
   "cell_type": "code",
   "execution_count": 35,
   "metadata": {
    "id": "tyEpkJUkjnuK"
   },
   "outputs": [
    {
     "name": "stdout",
     "output_type": "stream",
     "text": [
      "0.3\n"
     ]
    }
   ],
   "source": [
    "print(round(max_df+0.01, 2))"
   ]
  },
  {
   "cell_type": "markdown",
   "metadata": {
    "id": "UdZYoGZR4UsA"
   },
   "source": [
    "**Ответ:** Только 1 слово (не из стоп-слов при этом) упоминается в более чем 30% текстов. Думаю, это очень много, и объясняется это тем, что большая их часть связана одной темой - коронавирусом"
   ]
  },
  {
   "cell_type": "markdown",
   "metadata": {
    "id": "_gRIUaB1u32f"
   },
   "source": [
    "Подберите min_df (используйте дефолтное значение max_df) в CountVectorizer таким образом, чтобы размер словаря был 3700 токенов (при использовании токенайзера со стеммингом), а качество осталось таким же, как и было. Что можно сказать о результатах?"
   ]
  },
  {
   "cell_type": "code",
   "execution_count": 36,
   "metadata": {},
   "outputs": [
    {
     "name": "stdout",
     "output_type": "stream",
     "text": [
      "0.00043 3700\n",
      "0.00044 3700\n",
      "0.00045000000000000004 3700\n",
      "0.00046000000000000007 3700\n",
      "Размер словаря: 3489 0.0004700000000000001\n"
     ]
    }
   ],
   "source": [
    "min_df = 0.00043\n",
    "while True:\n",
    "    cv_df = CountVectorizer(tokenizer=custom_stem_tokenizer, min_df=min_df).fit(tweet_corpus_train)\n",
    "    vocab_size = len(cv_df.vocabulary_)\n",
    "    if vocab_size < 3700:\n",
    "        break\n",
    "    print(min_df, vocab_size)\n",
    "    min_df += 0.00001\n",
    "\n",
    "print(\"Размер словаря:\", vocab_size, min_df)"
   ]
  },
  {
   "cell_type": "code",
   "execution_count": 37,
   "metadata": {
    "id": "mvMDwpdfjm8Y"
   },
   "outputs": [
    {
     "name": "stdout",
     "output_type": "stream",
     "text": [
      "Accuracy для CountVectorizer (обучающая выборка): 0.9284493806065783\n",
      "Accuracy для CountVectorizer (тестовая выборка): 0.8677496511859677\n"
     ]
    },
    {
     "name": "stderr",
     "output_type": "stream",
     "text": [
      "/Users/andrewivanov/anaconda3/lib/python3.10/site-packages/sklearn/linear_model/_logistic.py:458: ConvergenceWarning: lbfgs failed to converge (status=1):\n",
      "STOP: TOTAL NO. of ITERATIONS REACHED LIMIT.\n",
      "\n",
      "Increase the number of iterations (max_iter) or scale the data as shown in:\n",
      "    https://scikit-learn.org/stable/modules/preprocessing.html\n",
      "Please also refer to the documentation for alternative solver options:\n",
      "    https://scikit-learn.org/stable/modules/linear_model.html#logistic-regression\n",
      "  n_iter_i = _check_optimize_result(\n"
     ]
    }
   ],
   "source": [
    "cv_df = CountVectorizer(tokenizer=custom_stem_tokenizer, min_df=min_df-0.00001)\n",
    "X_count_train = cv_df.fit_transform(train['OriginalTweet'])\n",
    "y_train = train['Sentiment'].values\n",
    "tweet_corpus_test = test['OriginalTweet']\n",
    "X_count_test = cv_df.transform(tweet_corpus_test)\n",
    "y_test = test['Sentiment'].values\n",
    "\n",
    "logreg_count = LogisticRegression()\n",
    "logreg_count.fit(X_count_train, y_train)\n",
    "\n",
    "y_count_train_pred = logreg_count.predict(X_count_train)\n",
    "y_count_test_pred = logreg_count.predict(X_count_test)\n",
    "\n",
    "train_accuracy_count = accuracy_score(y_train, y_count_train_pred)\n",
    "test_accuracy_count = accuracy_score(y_test, y_count_test_pred)\n",
    "\n",
    "print(\"Accuracy для CountVectorizer (обучающая выборка):\", train_accuracy_count)\n",
    "print(\"Accuracy для CountVectorizer (тестовая выборка):\", test_accuracy_count)\n"
   ]
  },
  {
   "cell_type": "markdown",
   "metadata": {
    "id": "3fGYpUIZx0fk"
   },
   "source": [
    "**Ответ:** у нас есть 3700 слов встречаются более чем в 0.046% твитов, и точность на тестовой выросла."
   ]
  },
  {
   "cell_type": "markdown",
   "metadata": {
    "id": "Gx_h_-inKbBl"
   },
   "source": [
    "В предыдущих заданиях признаки не скалировались. Отскалируйте данные (при словаре размера 3.7 тысяч, векторизованные CountVectorizer), обучите логистическую регрессию, посмотрите качество и выведите `berplot` содержащий по 10 токенов, с наибольшим по модулю положительными/отрицательными весами. Что можно сказать об этих токенах?"
   ]
  },
  {
   "cell_type": "code",
   "execution_count": 38,
   "metadata": {
    "id": "KBATXJX6LG9q",
    "scrolled": false
   },
   "outputs": [
    {
     "name": "stderr",
     "output_type": "stream",
     "text": [
      "/Users/andrewivanov/anaconda3/lib/python3.10/site-packages/sklearn/feature_extraction/text.py:528: UserWarning: The parameter 'token_pattern' will not be used since 'tokenizer' is not None'\n",
      "  warnings.warn(\n",
      "/Users/andrewivanov/anaconda3/lib/python3.10/site-packages/sklearn/linear_model/_logistic.py:458: ConvergenceWarning: lbfgs failed to converge (status=1):\n",
      "STOP: TOTAL NO. of ITERATIONS REACHED LIMIT.\n",
      "\n",
      "Increase the number of iterations (max_iter) or scale the data as shown in:\n",
      "    https://scikit-learn.org/stable/modules/preprocessing.html\n",
      "Please also refer to the documentation for alternative solver options:\n",
      "    https://scikit-learn.org/stable/modules/linear_model.html#logistic-regression\n",
      "  n_iter_i = _check_optimize_result(\n"
     ]
    },
    {
     "name": "stdout",
     "output_type": "stream",
     "text": [
      "Accuracy для CountVectorizer (обучающая выборка): 0.9416915847928236\n",
      "Accuracy для CountVectorizer (тестовая выборка): 0.8447279250548136\n"
     ]
    },
    {
     "data": {
      "image/png": "[encoded data removed]",
      "text/plain": [
       "<Figure size 1000x600 with 1 Axes>"
      ]
     },
     "metadata": {},
     "output_type": "display_data"
    }
   ],
   "source": [
    "from sklearn.preprocessing import StandardScaler\n",
    "\n",
    "\n",
    "min_df = 0.00044\n",
    "cv_df = CountVectorizer(tokenizer=custom_stem_tokenizer, min_df=min_df)\n",
    "\n",
    "X_count_train = cv_df.fit_transform(train['OriginalTweet'])\n",
    "X_count_test = cv_df.transform(tweet_corpus_test)\n",
    "\n",
    "scaler = StandardScaler(with_mean=False)\n",
    "\n",
    "X_count_train_scaled = scaler.fit_transform(X_count_train)\n",
    "X_count_test_scaled = scaler.transform(X_count_test)\n",
    "\n",
    "logreg_count_scaled = LogisticRegression()\n",
    "logreg_count_scaled.fit(X_count_train_scaled, y_train)\n",
    "y_count_train_pred = logreg_count_scaled.predict(X_count_train_scaled)\n",
    "y_count_test_pred = logreg_count_scaled.predict(X_count_test_scaled)\n",
    "\n",
    "train_accuracy_count = accuracy_score(y_train, y_count_train_pred)\n",
    "test_accuracy_count = accuracy_score(y_test, y_count_test_pred)\n",
    "\n",
    "print(\"Accuracy для CountVectorizer (обучающая выборка):\", train_accuracy_count)\n",
    "print(\"Accuracy для CountVectorizer (тестовая выборка):\", test_accuracy_count)\n",
    "\n",
    "coefficients = logreg_count_scaled.coef_[0]\n",
    "\n",
    "vocab = {word: coef for word, coef in zip(cv_df.get_feature_names_out(), coefficients)}\n",
    "positive_tokens = [(token, weight) for token, weight in vocab.items() if weight > 0]\n",
    "negative_tokens = [(token, weight) for token, weight in vocab.items() if weight < 0]\n",
    "\n",
    "top_positive_tokens = sorted(positive_tokens, key=lambda x: abs(x[1]), reverse=True)[:10]\n",
    "top_negative_tokens = sorted(negative_tokens, key=lambda x: abs(x[1]), reverse=True)[:10]\n",
    "\n",
    "tokens = [token for token, _ in top_positive_tokens + top_negative_tokens]\n",
    "weights = [weight for _, weight in top_positive_tokens + top_negative_tokens]\n",
    "colors = ['green' if weight > 0 else 'red' for weight in weights]\n",
    "\n",
    "plt.figure(figsize=(10, 6))\n",
    "plt.bar(tokens, weights, color=colors)\n",
    "plt.xlabel('Токены')\n",
    "plt.ylabel('Веса')\n",
    "plt.title('Топ-10 токенов с наибольшими по модулю весами')\n",
    "plt.xticks(rotation=45, ha='right')\n",
    "plt.show()"
   ]
  },
  {
   "cell_type": "markdown",
   "metadata": {
    "id": "ThcEfzY1LHET"
   },
   "source": [
    "**Ответ:** точность упала на тестовой выборке, а на обучающей выросла.\n",
    "\n",
    "Самые топовые по положительные весам слова - это позитивные слова, часто упоминаемые: помощь, спасибо, лучший и тд. А по отрицательным - негативные: кризис, паника, скам, страх, втф и тд."
   ]
  },
  {
   "cell_type": "markdown",
   "metadata": {
    "id": "ktJVOdrIHq7B"
   },
   "source": [
    "## Задание 7 Другие признаки (1.5 балла)"
   ]
  },
  {
   "cell_type": "markdown",
   "metadata": {
    "id": "Yt3jRCZ2H0Og"
   },
   "source": [
    "Мы были сконцентрированы на работе с текстами твиттов и не использовали другие признаки - имена пользователя, дату и местоположение"
   ]
  },
  {
   "cell_type": "markdown",
   "metadata": {
    "id": "52wjewCCo_di"
   },
   "source": [
    "Изучите признаки UserName и ScreenName. полезны ли они? Если полезны, то закодируйте их, добавьте к матрице с отскалированными признаками, обучите логистическую регрессию, замерьте качество."
   ]
  },
  {
   "cell_type": "markdown",
   "metadata": {
    "id": "r8_qR-gnpT3a"
   },
   "source": [
    "**Ответ:** они вообще бесполезны, номера пользователей не могут нам дать ничего"
   ]
  },
  {
   "cell_type": "markdown",
   "metadata": {
    "id": "ythEcFSkt7y3"
   },
   "source": [
    "Изучите признак TweetAt в обучающей выборке: преобразуйте его к типу datetime и нарисуйте его гистограмму с разделением по цвету на оспнове целевой переменной. Полезен ли он? Если полезен, то закодируйте его, добавьте к матрице с отскалированными признаками, обучите логистическую регрессию, замерьте качество."
   ]
  },
  {
   "cell_type": "code",
   "execution_count": 39,
   "metadata": {
    "id": "Lxb_k0JLirNv",
    "scrolled": false
   },
   "outputs": [
    {
     "name": "stderr",
     "output_type": "stream",
     "text": [
      "/var/folders/7z/jt8zyxld0tn8ynqb4xjzv_lm0000gn/T/ipykernel_47752/1923846521.py:1: UserWarning: Parsing dates in DD/MM/YYYY format when dayfirst=False (the default) was specified. This may lead to inconsistently parsed dates! Specify a format to ensure consistent parsing.\n",
      "  train['TweetAt'] = pd.to_datetime(train['TweetAt'])\n"
     ]
    },
    {
     "data": {
      "image/png": "[encoded data removed]",
      "text/plain": [
       "<Figure size 1000x600 with 1 Axes>"
      ]
     },
     "metadata": {},
     "output_type": "display_data"
    }
   ],
   "source": [
    "train['TweetAt'] = pd.to_datetime(train['TweetAt'])\n",
    "positive_tweets = train[train['Sentiment'] == 1]\n",
    "negative_tweets = train[train['Sentiment'] == 0]\n",
    "\n",
    "plt.figure(figsize=(10, 6))\n",
    "plt.hist(positive_tweets['TweetAt'], bins=52, alpha=0.5, color='blue', label='Положительные твиты', edgecolor='black')\n",
    "plt.hist(negative_tweets['TweetAt'], bins=52, alpha=0.5, color='green', label='Отрицательные твиты', edgecolor='black')\n",
    "plt.title('Гистограмма признака TweetAt с разделением по целевой переменной')\n",
    "plt.xlabel('Дата твитта')\n",
    "plt.ylabel('Количество твиттов')\n",
    "plt.legend()\n",
    "plt.show()\n"
   ]
  },
  {
   "cell_type": "markdown",
   "metadata": {
    "id": "4IdLBdpQxM-G"
   },
   "source": [
    "**Ответ:** как можно увидеть, разницы особой нет: почти всегда положительных твитов немного больше, чем отрицательных, и это не очень зависит от даты. Поэтому пытаться закодировать этот признак не имеет особо смысла.\n",
    "\n"
   ]
  },
  {
   "cell_type": "markdown",
   "metadata": {
    "id": "r2JtRPhNP6qx"
   },
   "source": [
    "Поработайте с признаком Location в обучающей выборке. Сколько уникальных значений?"
   ]
  },
  {
   "cell_type": "code",
   "execution_count": 40,
   "metadata": {
    "id": "xYQZQ1FRNpoe"
   },
   "outputs": [
    {
     "name": "stdout",
     "output_type": "stream",
     "text": [
      "7949\n"
     ]
    }
   ],
   "source": [
    "unique_locations = train['Location'].nunique()\n",
    "print(unique_locations)"
   ]
  },
  {
   "cell_type": "markdown",
   "metadata": {
    "id": "6k4JwpRTQISa"
   },
   "source": [
    "Постройте гистограмму топ-10 по популярности местоположений (исключая Unknown)"
   ]
  },
  {
   "cell_type": "code",
   "execution_count": 41,
   "metadata": {
    "id": "J91YkhegJ0mz"
   },
   "outputs": [
    {
     "data": {
      "image/png": "[encoded data removed]",
      "text/plain": [
       "<Figure size 1000x600 with 1 Axes>"
      ]
     },
     "metadata": {},
     "output_type": "display_data"
    }
   ],
   "source": [
    "import matplotlib.pyplot as plt\n",
    "\n",
    "location_counts = train[train['Location'] != 'Unknown']['Location'].value_counts()\n",
    "\n",
    "top_10_locations = location_counts.head(10)\n",
    "\n",
    "plt.figure(figsize=(10, 6))\n",
    "top_10_locations.plot(kind='bar', color='skyblue')\n",
    "plt.title('Топ-10 популярных местоположений')\n",
    "plt.xlabel('Местоположение')\n",
    "plt.ylabel('Количество')\n",
    "plt.xticks(rotation=45)\n",
    "plt.show()\n"
   ]
  },
  {
   "cell_type": "markdown",
   "metadata": {
    "id": "ZOsv3lODTfYB"
   },
   "source": [
    "Видно, что многие местоположения включают в себя более точное название места, чем другие (Например, у некоторых стоит London, UK; а у некоторых просто UK или United Kingdom).\n",
    "\n",
    "Создайте новый признак WiderLocation, который содержит самое широкое местоположение (например, из London, UK должно получиться UK). Сколько уникальных категорий теперь? Постройте аналогичную гистограмму."
   ]
  },
  {
   "cell_type": "code",
   "execution_count": 42,
   "metadata": {
    "id": "mSkow6acOMyD"
   },
   "outputs": [
    {
     "name": "stdout",
     "output_type": "stream",
     "text": [
      "Уникальных категорий в признаке WiderLocation: 4766\n"
     ]
    },
    {
     "data": {
      "image/png": "[encoded data removed]",
      "text/plain": [
       "<Figure size 1000x600 with 1 Axes>"
      ]
     },
     "metadata": {},
     "output_type": "display_data"
    }
   ],
   "source": [
    "def extract_wider_location(location):\n",
    "    if ',' in location:\n",
    "        return location.split(',')[-1].strip()\n",
    "    else:\n",
    "        return location\n",
    "\n",
    "train['WiderLocation'] = train['Location'].apply(extract_wider_location)\n",
    "test['WiderLocation'] = test['Location'].apply(extract_wider_location)\n",
    "\n",
    "unique_wider_locations = train['WiderLocation'].nunique()\n",
    "print(\"Уникальных категорий в признаке WiderLocation:\", unique_wider_locations)\n",
    "\n",
    "wider_location_counts = train[train['WiderLocation'] != 'Unknown']['WiderLocation'].value_counts().head(10)\n",
    "\n",
    "plt.figure(figsize=(10, 6))\n",
    "wider_location_counts.plot(kind='bar', color='skyblue')\n",
    "plt.title('Топ-10 популярных широких местоположений')\n",
    "plt.xlabel('Широкое местоположение')\n",
    "plt.ylabel('Количество')\n",
    "plt.xticks(rotation=45)\n",
    "plt.show()"
   ]
  },
  {
   "cell_type": "markdown",
   "metadata": {
    "id": "cgyWrD2eVfff"
   },
   "source": [
    "Закодируйте признак WiderLocation с помощью OHE таким образом, чтобы создались только столбцы для местоположений, которые встречаются более одного раза. Сколько таких значений?\n"
   ]
  },
  {
   "cell_type": "code",
   "execution_count": 45,
   "metadata": {
    "id": "SeJBfBWgPvg_"
   },
   "outputs": [
    {
     "name": "stdout",
     "output_type": "stream",
     "text": [
      "Количество значений встречающихся более одного раза: 1005\n"
     ]
    },
    {
     "name": "stderr",
     "output_type": "stream",
     "text": [
      "/Users/andrewivanov/anaconda3/lib/python3.10/site-packages/sklearn/preprocessing/_encoders.py:828: FutureWarning: `sparse` was renamed to `sparse_output` in version 1.2 and will be removed in 1.4. `sparse_output` is ignored unless you leave `sparse` to its default value.\n",
      "  warnings.warn(\n"
     ]
    }
   ],
   "source": [
    "from sklearn.preprocessing import OneHotEncoder\n",
    "\n",
    "wider_location_value_counts = train['WiderLocation'].value_counts()\n",
    "frequent_wider_locations = wider_location_value_counts[wider_location_value_counts > 1]\n",
    "frequent_wider_locations_list = frequent_wider_locations.index.tolist()\n",
    "\n",
    "encoder = OneHotEncoder(sparse=False, handle_unknown='ignore')\n",
    "\n",
    "wider_location_encoded = encoder.fit_transform(train[['WiderLocation']])\n",
    "\n",
    "num_frequent_wider_locations = len(frequent_wider_locations_list)\n",
    "print(\"Количество значений встречающихся более одного раза:\", num_frequent_wider_locations)"
   ]
  },
  {
   "cell_type": "markdown",
   "metadata": {
    "id": "ZyMX5kZuimPK"
   },
   "source": [
    "Добавьте этот признак к матрице отскалированных текстовых признаков, обучите логистическую регрессию, замерьте качество. Как оно изменилось? Оказался ли признак полезным?\n",
    "\n",
    "\n",
    "*Подсказка:* используйте параметр `categories` в энкодере."
   ]
  },
  {
   "cell_type": "code",
   "execution_count": 46,
   "metadata": {
    "id": "EO1jNPeeim7A"
   },
   "outputs": [
    {
     "name": "stderr",
     "output_type": "stream",
     "text": [
      "/Users/andrewivanov/anaconda3/lib/python3.10/site-packages/sklearn/preprocessing/_encoders.py:828: FutureWarning: `sparse` was renamed to `sparse_output` in version 1.2 and will be removed in 1.4. `sparse_output` is ignored unless you leave `sparse` to its default value.\n",
      "  warnings.warn(\n"
     ]
    },
    {
     "name": "stdout",
     "output_type": "stream",
     "text": [
      "Accuracy для CountVectorizer с добавленным признаком WiderLocation (обучающая выборка): 0.9455360956856045\n",
      "Accuracy для CountVectorizer с добавленным признаком WiderLocation (тестовая выборка): 0.8445286027506478\n"
     ]
    }
   ],
   "source": [
    "encoder = OneHotEncoder(categories=[frequent_wider_locations_list], sparse=False, handle_unknown='ignore')\n",
    "\n",
    "wider_location_encoded_train = encoder.fit_transform(train[['WiderLocation']])\n",
    "wider_location_encoded_test = encoder.transform(test[['WiderLocation']])\n",
    "\n",
    "X_train_extended = np.hstack((X_count_train_scaled.toarray(), wider_location_encoded_train))\n",
    "X_test_extended = np.hstack((X_count_test_scaled.toarray(), wider_location_encoded_test))\n",
    "logreg_extended = LogisticRegression(max_iter=500)\n",
    "logreg_extended.fit(X_train_extended, y_train)\n",
    "y_train_pred_extended = logreg_extended.predict(X_train_extended)\n",
    "y_test_pred_extended = logreg_extended.predict(X_test_extended)\n",
    "train_accuracy_extended = accuracy_score(y_train, y_train_pred_extended)\n",
    "test_accuracy_extended = accuracy_score(y_test, y_test_pred_extended)\n",
    "\n",
    "print(\"Accuracy для CountVectorizer с добавленным признаком WiderLocation (обучающая выборка):\", train_accuracy_extended)\n",
    "print(\"Accuracy для CountVectorizer с добавленным признаком WiderLocation (тестовая выборка):\", test_accuracy_extended)"
   ]
  },
  {
   "cell_type": "markdown",
   "metadata": {
    "id": "7dHsGlDRYUQt"
   },
   "source": [
    "**Ответ:** точность опять снизилась, но несильно. Но это означает, что данный признак не оказался полезным."
   ]
  },
  {
   "cell_type": "markdown",
   "metadata": {
    "id": "IWn6h4W9eD3S"
   },
   "source": [
    "## Задание 8 Хорошее качество (Бонус 1 балл)"
   ]
  },
  {
   "cell_type": "markdown",
   "metadata": {
    "id": "-HDI0SU6eLgi"
   },
   "source": [
    "Добейтесь accuracy=0.88 на тестовой выборке (можно сменить токенайзер, векторайзер, модель и т.д.)"
   ]
  },
  {
   "cell_type": "code",
   "execution_count": 47,
   "metadata": {},
   "outputs": [
    {
     "name": "stderr",
     "output_type": "stream",
     "text": [
      "/Users/andrewivanov/anaconda3/lib/python3.10/site-packages/sklearn/feature_extraction/text.py:528: UserWarning: The parameter 'token_pattern' will not be used since 'tokenizer' is not None'\n",
      "  warnings.warn(\n"
     ]
    },
    {
     "name": "stdout",
     "output_type": "stream",
     "text": [
      "Accuracy на обучающей: 0.9268688594617684\n",
      "Accuracy на тестовой: 0.884393063583815\n"
     ]
    }
   ],
   "source": [
    "def final_tokenizer(text):\n",
    "    text = text.lower()\n",
    "    tokenizer = TweetTokenizer()\n",
    "    tokens = tokenizer.tokenize(text)\n",
    "    stop_words = set(stopwords.words('english'))\n",
    "    tokens = [token for token in tokens if token not in stop_words and '#' not in token and token not in punctuation and (len(token) > 1 or (all(ord(char) < 128 for char in token))) and not token.startswith('https://t.co')]\n",
    "    stemmer = SnowballStemmer('english')\n",
    "    tokens = [stemmer.stem(token) for token in tokens]\n",
    "    return tokens\n",
    "\n",
    "cv_final = CountVectorizer(tokenizer=final_tokenizer, min_df=0.0001, max_df=0.3)\n",
    "X_train = cv_final.fit_transform(train['OriginalTweet'])\n",
    "X_test = cv_final.transform(test['OriginalTweet'])\n",
    "\n",
    "logreg = LogisticRegression(C=0.75, penalty='l1', solver='liblinear')\n",
    "logreg.fit(X_train, y_train)\n",
    "\n",
    "y_train_pred = logreg.predict(X_train)\n",
    "y_test_pred = logreg.predict(X_test)\n",
    "\n",
    "train_accuracy = accuracy_score(y_train, y_train_pred)\n",
    "test_accuracy = accuracy_score(y_test, y_test_pred)\n",
    "\n",
    "print(\"Accuracy на обучающей:\", train_accuracy)\n",
    "print(\"Accuracy на тестовой:\", test_accuracy)"
   ]
  }
 ],
 "metadata": {
  "colab": {
   "provenance": [],
   "toc_visible": true
  },
  "kernelspec": {
   "display_name": "Python 3 (ipykernel)",
   "language": "python",
   "name": "python3"
  },
  "language_info": {
   "codemirror_mode": {
    "name": "ipython",
    "version": 3
   },
   "file_extension": ".py",
   "mimetype": "text/x-python",
   "name": "python",
   "nbconvert_exporter": "python",
   "pygments_lexer": "ipython3",
   "version": "3.10.9"
  }
 },
 "nbformat": 4,
 "nbformat_minor": 1
}
